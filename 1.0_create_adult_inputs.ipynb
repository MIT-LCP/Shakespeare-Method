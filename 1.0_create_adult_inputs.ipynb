{
 "cells": [
  {
   "cell_type": "markdown",
   "metadata": {},
   "source": [
    "# 1.0_create_adult_inputs\n",
    "### Create a table `inputs_all` of adult admissions and their input events from the mimic iii database\n",
    "\n",
    "+ postgres >= 9.4\n",
    "+ python=2.7 (any version should work here)"
   ]
  },
  {
   "cell_type": "code",
   "execution_count": 64,
   "metadata": {
    "collapsed": true
   },
   "outputs": [],
   "source": [
    "# only run this cell if you need to reset the connection to postgres database after getting an error when running a query\n",
    "conn.commit();\n",
    "cur.close();\n",
    "conn.close();"
   ]
  },
  {
   "cell_type": "markdown",
   "metadata": {},
   "source": [
    "## import libraries, connect to your postgres mimic iii database\n",
    "Details on this in the readme"
   ]
  },
  {
   "cell_type": "code",
   "execution_count": 1,
   "metadata": {},
   "outputs": [
    {
     "name": "stdout",
     "output_type": "stream",
     "text": [
      "last ran:  2019-12-24 16:22:17.780177\n",
      "Python Version: 3.7.3 (\n",
      "operating system: darwin\n",
      "pandas version: 0.24.2\n",
      "sqlalchemy version: 1.3.3\n",
      "psycopg2 version: 2.7.6.1\n",
      "tqdm version: 4.32.1\n"
     ]
    }
   ],
   "source": [
    "import sys\n",
    "from datetime import datetime\n",
    "import pandas as pd\n",
    "\n",
    "from importlib_metadata import version\n",
    "\n",
    "# things to connect to the posgres database\n",
    "import psycopg2\n",
    "from sqlalchemy import create_engine, update\n",
    "\n",
    "POSTGRES_CONNECT = os.environ.get(\"POSTGRES_CONNECT\")\n",
    "POSTGRES_ENGINE = os.environ.get(\"POSTGRES_ENGINE\")\n",
    "conn = psycopg2.connect(POSTGRES_CONNECT)\n",
    "cur = conn.cursor();\n",
    "cur.execute(\"\"\"SET search_path = mimiciii;\"\"\")\n",
    "engine = create_engine(POSTGRES_ENGINE)\n",
    "\n",
    "libraries = ['pandas','sqlalchemy','psycopg2','tqdm']\n",
    "print('last ran: ',datetime.now() )\n",
    "print(\"Python Version:\", sys.version[0:7])\n",
    "print( \"operating system:\", sys.platform)\n",
    "\n",
    "for lib in libraries:\n",
    "    print(lib + ' version: ' + version(lib))"
   ]
  },
  {
   "cell_type": "markdown",
   "metadata": {},
   "source": [
    "## 1.0.1 Create Adult Admissions Table\n",
    "In this study we are looking at each admission, not each patient (because a patient can have more than one admission and we wanted to treat each admission separately)\n",
    "\n",
    "The first criteria for our cohort is to keep only adult admissions by filtering the `admissions` table based on information from the `patients` table, resulting in a `patients_adult` table.\n",
    "\n",
    "+ adults = admissions that were 16 years or more at the time of admission\n",
    "+ total admissions in MIMICIII database = 58,976\n",
    "+ total adult admissions (16 or older) = 50,857"
   ]
  },
  {
   "cell_type": "code",
   "execution_count": 2,
   "metadata": {},
   "outputs": [],
   "source": [
    "cur.execute(\"\"\"\n",
    "DROP TABLE IF EXISTS mimiciii.patients_adult;\n",
    "WITH\n",
    "first_admission_time AS\n",
    "(   SELECT pp.subject_id\n",
    "           ,MIN (a.admittime) AS first_admittime\n",
    "        , MIN( ROUND( (CAST(a.admittime AS date) - CAST(pp.dob AS date))/365.242,2))AS first_admit_age\n",
    "    FROM mimiciii.patients pp \n",
    "        INNER JOIN mimiciii.admissions a \n",
    "        ON pp.subject_id = a.subject_id \n",
    "    GROUP BY pp.subject_id\n",
    "    ORDER BY pp.subject_id)\n",
    ", age AS \n",
    "(   SELECT subject_id, first_admit_age\n",
    "        , CASE \n",
    "            WHEN first_admit_age >= 16 \n",
    "                THEN 'adult' \n",
    "            ELSE 'pediatric' \n",
    "            END AS age_group \n",
    "    FROM first_admission_time)\n",
    "\n",
    "SELECT p.*,f.first_admit_age\n",
    "    INTO mimiciii.patients_adult\n",
    "FROM mimiciii.patients p\n",
    "    INNER JOIN age f\n",
    "    ON p.subject_id = f.subject_id\n",
    "    WHERE f.age_group LIKE 'adult';\"\"\")\n",
    "\n",
    "\n",
    "conn.commit()"
   ]
  },
  {
   "cell_type": "markdown",
   "metadata": {},
   "source": [
    "print total number of unique patient admissions & unique adult patient admissions "
   ]
  },
  {
   "cell_type": "code",
   "execution_count": 3,
   "metadata": {},
   "outputs": [
    {
     "name": "stdout",
     "output_type": "stream",
     "text": [
      " admissions_total\n",
      "            58976\n",
      " adult_admissions_total\n",
      "                  50857\n"
     ]
    }
   ],
   "source": [
    "cur.execute(\"\"\"\n",
    "SELECT COUNT(DISTINCT a.hadm_id) AS admissions_total\n",
    "FROM  admissions a;\"\"\")\n",
    "\n",
    "print(pd.DataFrame(cur.fetchall(), columns=['admissions_total']).to_string(index=False))\n",
    "\n",
    "cur.execute(\"\"\"\n",
    "SELECT COUNT(DISTINCT a.hadm_id) AS adult_admissions_total\n",
    "FROM patients_adult p\n",
    "INNER JOIN admissions a\n",
    "    ON a.subject_id = p.subject_id;\"\"\")\n",
    "\n",
    "print(pd.DataFrame(cur.fetchall(), columns=['adult_admissions_total']).to_string(index=False))"
   ]
  },
  {
   "cell_type": "markdown",
   "metadata": {},
   "source": [
    "For this new table, the minimum **first_admit_age** should be 16.0. The maximum is 300. If the patient is older than 89, the patient's age is fixed to 300 to de-identify. \n",
    "\n",
    "## 1.0.2 Create `inputevents_mv_adult`: a table of metavision input events for adults\n",
    "Filter the `inputevents_mv` table on the `patients_adult` table using **subject_id**"
   ]
  },
  {
   "cell_type": "code",
   "execution_count": null,
   "metadata": {},
   "outputs": [],
   "source": [
    "cur.execute(\"\"\"\n",
    "DROP TABLE IF EXISTS mimiciii.inputevents_mv_adult;\n",
    "\n",
    "SELECT i.* \n",
    "    INTO inputevents_mv_adult\n",
    "FROM mimiciii.inputevents_mv i\n",
    "    INNER JOIN mimiciii.patients_adult p\n",
    "    ON p.subject_id = i.subject_id;\"\"\")"
   ]
  },
  {
   "cell_type": "markdown",
   "metadata": {},
   "source": [
    "print number of unique adult mv admissions"
   ]
  },
  {
   "cell_type": "code",
   "execution_count": 6,
   "metadata": {},
   "outputs": [
    {
     "name": "stdout",
     "output_type": "stream",
     "text": [
      " total_adult_mv_inputs  unique_adult_admissions_mv_inputs\n",
      "               3618905                              21876\n"
     ]
    }
   ],
   "source": [
    "cur.execute(\"\"\"\n",
    "SELECT COUNT(*) AS total_adult_mv_inputs\n",
    "     , COUNT(DISTINCT hadm_id) AS unique_adult_admissions_mv_inputs\n",
    "FROM mimiciii.inputevents_mv_adult;\"\"\")\n",
    "\n",
    "print(pd.DataFrame(cur.fetchall(), columns=[ 'total_adult_mv_inputs','unique_adult_admissions_mv_inputs']).to_string(index=False))"
   ]
  },
  {
   "cell_type": "markdown",
   "metadata": {},
   "source": [
    "## 1.0.3 create `inputevents_cv`:  CareVue Input Events for Adults\n",
    "Filter the `inputevents_cv` table on the `patients_adult` table using **subject_id**"
   ]
  },
  {
   "cell_type": "code",
   "execution_count": null,
   "metadata": {},
   "outputs": [],
   "source": [
    "cur.execute(\"\"\"\n",
    "DROP TABLE IF EXISTS mimiciii.inputevents_cv_adult;\n",
    "\n",
    "SELECT i.* \n",
    "    INTO mimiciii.inputevents_cv_adult\n",
    "FROM mimiciii.inputevents_cv i\n",
    "    INNER JOIN mimiciii.patients_adult p\n",
    "    ON p.subject_id = i.subject_id;\"\"\")"
   ]
  },
  {
   "cell_type": "markdown",
   "metadata": {},
   "source": [
    "print number of total inputs (rows) & unique adult cv admissions"
   ]
  },
  {
   "cell_type": "code",
   "execution_count": 7,
   "metadata": {},
   "outputs": [
    {
     "name": "stdout",
     "output_type": "stream",
     "text": [
      " total_adult_cv_inputs  unique_adult_admissions_cv_inputs\n",
      "              15229603                              27138\n"
     ]
    }
   ],
   "source": [
    "cur.execute(\"\"\"\n",
    "SELECT COUNT(*) AS total_adult_cv_inputs\n",
    "     , COUNT(DISTINCT hadm_id) AS unique_adult_admissions_cv_inputs\n",
    "FROM mimiciii.inputevents_cv_adult;\"\"\")\n",
    "\n",
    "print(pd.DataFrame(cur.fetchall(), columns=['total_adult_cv_inputs', 'unique_adult_admissions_cv_inputs']).to_string(index=False))"
   ]
  },
  {
   "cell_type": "markdown",
   "metadata": {},
   "source": [
    "### 1.0.4 Create `chartevents_adult`: Chart Events for Adults\n",
    "+ It takes a long time to execute this query (more than an hour or 2 (on a laptop). Run the cell and just walk away for a bit. \n",
    "+ extract all chart events for adult patients (inner join `chartevents` to `patients_adult` on **subject_id**)\n",
    "+ total adult chart events = 280231912\n",
    "+ unique adult chart events = 49,282"
   ]
  },
  {
   "cell_type": "code",
   "execution_count": 8,
   "metadata": {},
   "outputs": [],
   "source": [
    "cur.execute(\"\"\"\n",
    "DROP TABLE IF EXISTS mimiciii.chartevents_adult;\n",
    "\n",
    "SELECT c.* \n",
    "    INTO mimiciii.chartevents_adult\n",
    "FROM mimiciii.chartevents c\n",
    "    INNER JOIN mimiciii.patients_adult p\n",
    "    ON p.subject_id = c.subject_id;\"\"\")"
   ]
  },
  {
   "cell_type": "markdown",
   "metadata": {},
   "source": [
    "print number of inputs (rows) &  unique adult cv admissions"
   ]
  },
  {
   "cell_type": "code",
   "execution_count": 9,
   "metadata": {},
   "outputs": [
    {
     "name": "stdout",
     "output_type": "stream",
     "text": [
      " total_adult_chartevents  unique_adult_admissions_chartevents\n",
      "               280231912                                49282\n"
     ]
    }
   ],
   "source": [
    "conn.commit()\n",
    "cur.execute(\"\"\"\n",
    "SELECT COUNT(*) AS total_adult_chartevents\n",
    "     , COUNT(distinct hadm_id) AS unique_adult_admissions_chartevents\n",
    "FROM mimiciii.chartevents_adult;\"\"\")\n",
    "\n",
    "print(pd.DataFrame(cur.fetchall(), columns=[ 'total_adult_chartevents','unique_adult_admissions_chartevents']).to_string(index=False))"
   ]
  },
  {
   "cell_type": "markdown",
   "metadata": {},
   "source": [
    "## 1.0.5 Create `inputs_all`: All Adult Inputs (from mv and cv and chartevents)\n",
    "\n",
    "+ concatenate the tables we created above\n",
    "+ `inputevents_cv_adult` \n",
    "+ `inputevents_mv_adult`\n",
    "+ `chartevents_adult`\n",
    "\n",
    "This query takes a bit of time as well, this is normal. "
   ]
  },
  {
   "cell_type": "code",
   "execution_count": 10,
   "metadata": {},
   "outputs": [],
   "source": [
    "cur.execute(\"\"\"\n",
    "DROP TABLE IF EXISTS mimiciii.inputs_all;\n",
    "\n",
    "SELECT subject_id,\n",
    "        hadm_id,\n",
    "        icustay_id,\n",
    "        charttime AS dt, \n",
    "       'cv' AS source,\n",
    "       itemid \n",
    "INTO mimiciii.inputs_all\n",
    "FROM mimiciii.inputevents_cv_adult UNION\n",
    "\n",
    "\n",
    "SELECT subject_id,\n",
    "        hadm_id,\n",
    "        icustay_id,\n",
    "        starttime as dt,\n",
    "        'mv' as source, \n",
    "        itemid  \n",
    "FROM mimiciii.inputevents_mv_adult UNION\n",
    "\n",
    "\n",
    "SELECT subject_id,\n",
    "        hadm_id,\n",
    "        icustay_id,\n",
    "        charttime as dt, \n",
    "        'ce' as source, \n",
    "        itemid \n",
    "FROM mimiciii.chartevents_adult;\"\"\")\n"
   ]
  },
  {
   "cell_type": "markdown",
   "metadata": {},
   "source": [
    "+ print number of total inputs (rows) & unique adult admissions for the big inputs_all table\n",
    "+ adult_admissions_count = 49284\n",
    "+ inputs_count = 289509356"
   ]
  },
  {
   "cell_type": "code",
   "execution_count": 11,
   "metadata": {},
   "outputs": [
    {
     "name": "stdout",
     "output_type": "stream",
     "text": [
      " adult_admissions_count  inputs_count\n",
      "                  49284     289509356\n"
     ]
    }
   ],
   "source": [
    "cur.execute(\"\"\"\n",
    "\n",
    "SELECT COUNT(DISTINCT hadm_id) AS adult_admissions_count\n",
    "     , COUNT(*) AS inputs_count\n",
    "FROM mimiciii.inputs_all;\"\"\")\n",
    "\n",
    "print(pd.DataFrame(cur.fetchall(), columns=['adult_admissions_count','inputs_count' ]).to_string(index=False))"
   ]
  },
  {
   "cell_type": "markdown",
   "metadata": {},
   "source": [
    "### Clean Up, Commit, and Close"
   ]
  },
  {
   "cell_type": "code",
   "execution_count": 12,
   "metadata": {},
   "outputs": [],
   "source": [
    "conn.commit();\n",
    "cur.close();\n",
    "conn.close();"
   ]
  }
 ],
 "metadata": {
  "kernelspec": {
   "display_name": "Python 2",
   "language": "python",
   "name": "python2"
  },
  "language_info": {
   "codemirror_mode": {
    "name": "ipython",
    "version": 2
   },
   "file_extension": ".py",
   "mimetype": "text/x-python",
   "name": "python",
   "nbconvert_exporter": "python",
   "pygments_lexer": "ipython2",
   "version": "2.7.16"
  }
 },
 "nbformat": 4,
 "nbformat_minor": 2
}
