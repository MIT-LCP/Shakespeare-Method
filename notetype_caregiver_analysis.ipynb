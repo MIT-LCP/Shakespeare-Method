{
 "cells": [
  {
   "cell_type": "markdown",
   "metadata": {},
   "source": [
    "# Exploratory analysis of caregiver note types over time"
   ]
  },
  {
   "cell_type": "code",
   "execution_count": null,
   "metadata": {},
   "outputs": [],
   "source": [
    "import os\n",
    "from importlib_metadata import version\n",
    "import psycopg2\n",
    "from sqlalchemy import create_engine\n",
    "import sys\n",
    "\n",
    "import numpy as np\n",
    "import pandas as pd\n",
    "from datetime import datetime\n",
    "\n",
    "## plotting\n",
    "import matplotlib.pyplot as plt\n",
    "import plotly.figure_factory as ff\n",
    "from sklearn.metrics import roc_curve, auc,  classification_report\n",
    "from plotly.offline import init_notebook_mode, iplot\n",
    "init_notebook_mode()"
   ]
  },
  {
   "cell_type": "code",
   "execution_count": null,
   "metadata": {},
   "outputs": [],
   "source": [
    "PASSWORD = os.environ.get(\"PASSWORD\")\n",
    "USERNAME = os.environ.get(\"USERNAME\")\n",
    "POSTGRES_CONNECT = os.environ.get(\"POSTGRES_CONNECT\")\n",
    "POSTGRES_ENGINE = os.environ.get(\"POSTGRES_ENGINE\")\n",
    "\n",
    "conn = psycopg2.connect(POSTGRES_CONNECT)\n",
    "\n",
    "cur = conn.cursor();\n",
    "cur.execute(\"\"\"SET search_path = mimiciii;\"\"\")\n",
    "\n",
    "engine = create_engine(POSTGRES_ENGINE)"
   ]
  },
  {
   "cell_type": "code",
   "execution_count": null,
   "metadata": {},
   "outputs": [],
   "source": [
    "path = ''"
   ]
  },
  {
   "cell_type": "code",
   "execution_count": null,
   "metadata": {
    "scrolled": true
   },
   "outputs": [],
   "source": [
    "libraries = ['pandas','sqlalchemy','psycopg2','tqdm','numpy','matplotlib']\n",
    "print('last ran: ',datetime.now() )\n",
    "print(\"Python Version:\", sys.version[0:7])\n",
    "print( \"operating system:\", sys.platform)\n",
    "\n",
    "for lib in libraries:\n",
    "    print(lib + ' version: ' + version(lib))"
   ]
  },
  {
   "cell_type": "markdown",
   "metadata": {},
   "source": [
    "## Combine note/cg descriptions, times"
   ]
  },
  {
   "cell_type": "code",
   "execution_count": null,
   "metadata": {},
   "outputs": [],
   "source": [
    "# read in hadm_ids and dates\n",
    "hep = pd.read_sql(\"\"\"select hadm_id, true_admittime from mimiciii.time_study_notes\"\"\", engine)\n",
    "\n",
    "# read in note types\n",
    "types = pd.read_sql(\"\"\"SELECT category, description, hadm_id, cgid FROM mimiciii.noteevents\"\"\", engine)\n",
    "types.dropna(subset = ['hadm_id'], inplace =  True) # drop null hadm_ids\n",
    "types['hadm_id'] = types['hadm_id'].astype(int)\n",
    "types = types[types['hadm_id'].isin(hep['hadm_id'])] # filter to IDs in heparin\n",
    "types.fillna(0, inplace = True) # this will result in a category of '0' for null values\n",
    "\n",
    "# read in caregiver types\n",
    "cgs = pd.read_sql(\"\"\"SELECT cgid, label, description FROM mimiciii.caregivers\"\"\",engine)\n",
    "cgs['cgid'] = cgs['cgid'].astype(int)"
   ]
  },
  {
   "cell_type": "code",
   "execution_count": null,
   "metadata": {},
   "outputs": [],
   "source": [
    "# add times to note types\n",
    "datedict = dict(zip(list(hep['hadm_id']), list(hep['true_admittime'])))\n",
    "types['true_admittime'] = types['hadm_id'].map(datedict) # mapping times\n",
    "types['yearmo'] = [x.strftime('%Y-%m') for x in types['true_admittime']] # make column for month-year\n",
    "\n",
    "# add caregiver types to note types\n",
    "cgid_dict = dict(zip(cgs['cgid'], cgs['description']))\n",
    "types['cg_type'] = types['cgid'].map(cgid_dict)"
   ]
  },
  {
   "cell_type": "code",
   "execution_count": null,
   "metadata": {},
   "outputs": [],
   "source": [
    "types.head()"
   ]
  },
  {
   "cell_type": "code",
   "execution_count": null,
   "metadata": {},
   "outputs": [],
   "source": [
    "# aggregate by hadmid\n",
    "agg = types.groupby(['hadm_id', 'category']).agg({'category': \"count\"})"
   ]
  },
  {
   "cell_type": "code",
   "execution_count": null,
   "metadata": {},
   "outputs": [],
   "source": [
    "agg.rename(columns = {'category' : 'count'}, inplace = True)"
   ]
  },
  {
   "cell_type": "code",
   "execution_count": null,
   "metadata": {},
   "outputs": [],
   "source": [
    "agg.reset_index(inplace = True)"
   ]
  },
  {
   "cell_type": "code",
   "execution_count": null,
   "metadata": {},
   "outputs": [],
   "source": [
    "agg = agg.pivot_table(values = 'count', index = 'hadm_id', columns = 'category')\n",
    "agg.fillna(0, inplace = True)\n",
    "agg = agg.applymap(lambda x: int(x))\n",
    "try:\n",
    "    agg.columns = agg.columns.map(int)\n",
    "except:\n",
    "    pass\n",
    "agg.reset_index(inplace = True)\n",
    "agg.fillna(0, inplace = True)"
   ]
  },
  {
   "cell_type": "code",
   "execution_count": null,
   "metadata": {},
   "outputs": [],
   "source": [
    "agg.shape"
   ]
  },
  {
   "cell_type": "code",
   "execution_count": null,
   "metadata": {},
   "outputs": [],
   "source": [
    "agg['true_admittime'] = agg['hadm_id'].map(datedict)"
   ]
  },
  {
   "cell_type": "markdown",
   "metadata": {},
   "source": [
    "## Aggregate Over Time"
   ]
  },
  {
   "cell_type": "code",
   "execution_count": null,
   "metadata": {},
   "outputs": [],
   "source": [
    "def agg_df(df, agg_col):\n",
    "    '''\n",
    "    Function to aggregate the dataframe by time periods. \n",
    "    Args: Takes df and name of column to aggregate (could be 'cg_type', 'cgid', 'category', 'description')\n",
    "    '''\n",
    "    # groupby\n",
    "    agg = df.groupby(['yearmo', agg_col]).agg({agg_col: \"count\"})\n",
    "    agg.rename(columns = {agg_col: \"count\"}, inplace = True)\n",
    "    agg.reset_index(inplace = True)\n",
    "    \n",
    "    # pivot table\n",
    "    agg = agg.pivot_table(values = 'count', index = 'yearmo', columns = agg_col)\n",
    "    agg.fillna(0, inplace = True)\n",
    "    agg = agg.applymap(lambda x: int(x))\n",
    "    try:\n",
    "        agg.columns = agg.columns.map(int)\n",
    "    except:\n",
    "        pass\n",
    "    agg.reset_index(inplace = True)\n",
    "    agg.fillna(0, inplace = True)\n",
    "    \n",
    "    # get columns for plotting\n",
    "    cols = list(agg.columns)[1:]\n",
    "    \n",
    "    return agg, cols"
   ]
  },
  {
   "cell_type": "code",
   "execution_count": null,
   "metadata": {},
   "outputs": [],
   "source": [
    "def perc_agg(agg, cols):\n",
    "    '''\n",
    "    Function to calculate counts as proportions.\n",
    "    Args: Takes aggregated df and list of columns to sum/calculate on.\n",
    "    '''\n",
    "    # making each column a proportion of the total\n",
    "    agg['sum'] = agg[cols].sum(axis = 1)\n",
    "    for i in cols:\n",
    "        agg[i] =  agg[i] / agg['sum']\n",
    "        \n",
    "    # getting max percentages\n",
    "    try:\n",
    "        notzero = agg.drop(columns = 0) # 0 column represents null values from original df\n",
    "        newcols = cols\n",
    "        newcols.remove(0)\n",
    "    except:\n",
    "        notzero = agg.copy()\n",
    "        newcols = cols\n",
    "    \n",
    "    notzero['max_perc'] = notzero[newcols].max(axis = 1) # find max percentage of total among nonzero columns\n",
    "    notzero['max_perc_id'] = notzero[newcols].idxmax(axis = 1) # find max percentage column name\n",
    "    \n",
    "    # getting number of unique IDs with nonzero values in a time period\n",
    "    boolagg = agg[newcols].applymap(lambda x: 1 if x != 0 else 0)\n",
    "    boolagg['unique_vals'] = boolagg[newcols].sum(axis = 1)\n",
    "    \n",
    "    # adding new columns to agg df\n",
    "    agg['max_perc'] = notzero['max_perc']\n",
    "    agg['max_perc_id'] = notzero['max_perc_id']\n",
    "    agg['unique_vals'] =  boolagg['unique_vals']\n",
    "    \n",
    "    return agg"
   ]
  },
  {
   "cell_type": "markdown",
   "metadata": {},
   "source": [
    "## Visualizations"
   ]
  },
  {
   "cell_type": "markdown",
   "metadata": {},
   "source": [
    "### Line   Plot"
   ]
  },
  {
   "cell_type": "code",
   "execution_count": null,
   "metadata": {},
   "outputs": [],
   "source": [
    "def make_lineplot(agg, cols, title, save_name, path = path, zoom_07 = False, prop=6):\n",
    "    \n",
    "    plt.figure(figsize=(20,10), dpi = 300)\n",
    "    \n",
    "    if zoom_07 == True:\n",
    "        agg = agg[agg['yearmo'] >= '2007-01']\n",
    "        lim = agg[cols].max().max()\n",
    "        plt.ylim(top=lim)\n",
    "        plt.ylim(bottom=0)\n",
    "        plt.xticks(np.arange(0, agg.shape[0], 1), rotation=20)\n",
    "    else:\n",
    "        plt.xticks(np.arange(4, agg.shape[0], 6), rotation=20)\n",
    "    \n",
    "    for i in cols:\n",
    "        plt.plot(agg['yearmo'], agg[i], label = str(i), linewidth=3)\n",
    "        \n",
    "    plt.axvline(x = '2007-07') # plot vertical line for July 2007\n",
    "    plt.xlabel('Time', fontsize = 20)\n",
    "    plt.ylabel('Counts', fontsize = 20)\n",
    "    plt.tick_params(labelsize=18)\n",
    "    plt.title(title, fontsize = 20)\n",
    "    \n",
    "    plt.savefig(path + save_name + '.png')\n",
    "    \n",
    "    return plt.legend(bbox_to_anchor=(1.1, 1.05), prop={'size': prop}, framealpha = 1);"
   ]
  },
  {
   "cell_type": "markdown",
   "metadata": {},
   "source": [
    "##### Caregiver  Types Over Time"
   ]
  },
  {
   "cell_type": "code",
   "execution_count": null,
   "metadata": {},
   "outputs": [],
   "source": [
    "# saving caregiver types tocsv\n",
    "cgtype_agg, cols = agg_df(types, 'cg_type')\n",
    "cgtype_agg.to_csv(path + 'cgtype_overtime.csv')"
   ]
  },
  {
   "cell_type": "code",
   "execution_count": null,
   "metadata": {},
   "outputs": [],
   "source": [
    "make_lineplot(cgtype_agg, cols, \"Caregiver Types Over Time\", \"cg_types_overtime\")"
   ]
  },
  {
   "cell_type": "code",
   "execution_count": null,
   "metadata": {
    "scrolled": false
   },
   "outputs": [],
   "source": [
    "# zoomed in version\n",
    "make_lineplot(cgtype_agg, cols, \"Caregiver Types Over Time: 2007-After\", \"cg_types_overtime_07\", zoom_07 = True)"
   ]
  },
  {
   "cell_type": "code",
   "execution_count": null,
   "metadata": {},
   "outputs": [],
   "source": [
    "# save percentages to csv\n",
    "cgtype_perc = perc_agg(cgtype_agg, cols)\n",
    "cgtype_perc.to_csv(path + 'cgtype_perc_overtime.csv')"
   ]
  },
  {
   "cell_type": "code",
   "execution_count": null,
   "metadata": {},
   "outputs": [],
   "source": [
    "cgtype_perc"
   ]
  },
  {
   "cell_type": "markdown",
   "metadata": {},
   "source": [
    "##### Note Types Over Time"
   ]
  },
  {
   "cell_type": "code",
   "execution_count": null,
   "metadata": {},
   "outputs": [],
   "source": [
    "types['category'].value_counts()"
   ]
  },
  {
   "cell_type": "code",
   "execution_count": null,
   "metadata": {},
   "outputs": [],
   "source": [
    "types3 = types[(types['category']=='Nursing/other')|(types['category']=='Radiology')|(types['category']=='ECG')|\n",
    "              (types['category']=='Discharge summary')|(types['category']=='Echo')]"
   ]
  },
  {
   "cell_type": "code",
   "execution_count": null,
   "metadata": {},
   "outputs": [],
   "source": [
    "# note types\n",
    "notetype_agg, cols =  agg_df(types3, 'category')\n",
    "#notetype_agg.to_csv(path + 'notetypes_overtime.csv')"
   ]
  },
  {
   "cell_type": "code",
   "execution_count": null,
   "metadata": {},
   "outputs": [],
   "source": [
    "make_lineplot(notetype_agg, cols, \"Note Categories Over Time\", \"note_categories_overtime\", prop=20)"
   ]
  },
  {
   "cell_type": "code",
   "execution_count": null,
   "metadata": {
    "scrolled": false
   },
   "outputs": [],
   "source": [
    "# zoomed in version\n",
    "make_lineplot(notetype_agg, cols, \"Note Categories Over Time: 2007-After\", \n",
    "              \"note_categories_overtime_07\", zoom_07 = True)"
   ]
  },
  {
   "cell_type": "code",
   "execution_count": null,
   "metadata": {},
   "outputs": [],
   "source": [
    "# save percentages to csv\n",
    "notetype_perc = perc_agg(notetype_agg, cols)\n",
    "notetype_perc.to_csv(path + 'notetype_perc_overtime.csv')"
   ]
  },
  {
   "cell_type": "markdown",
   "metadata": {},
   "source": [
    "### Gantt Chart"
   ]
  },
  {
   "cell_type": "code",
   "execution_count": null,
   "metadata": {},
   "outputs": [],
   "source": [
    "# list of 14 unique colors for plotting cgids in gantt chart\n",
    "colors = [\"#000000\", \"#7ab643\", \"#8b58cb\", \"#c1a446\", \"#6c71c2\", \"#da8032\", \"#669ed7\",\n",
    "          \"#ce4a36\", \"#3dbbb8\", \"#fffc00\", \"#59b078\", \"#cc7dd0\", \"#647832\", \"#808080\"]"
   ]
  },
  {
   "cell_type": "code",
   "execution_count": null,
   "metadata": {},
   "outputs": [],
   "source": [
    "def make_gantt(agg, cols, colors = colors, agg_cgid = False):\n",
    "    '''\n",
    "    Function for plotting aggregated df as a gantt chart.\n",
    "    Args: aggregated df, list of columns to plot; if plotting caregiver IDs over time, agg_cgid=True, else False'''\n",
    "    \n",
    "    # organizing into new df for Plotly\n",
    "    mylist = []\n",
    "    for i in cols:\n",
    "        mydict = {}\n",
    "        startid = agg[i].ne(0).idxmax()\n",
    "        start = agg.loc[startid, 'yearmo']\n",
    "        s = pd.Series(agg[i])\n",
    "        endid = s[s != 0].index[-1]\n",
    "        end = agg.loc[endid, 'yearmo']\n",
    "        mydict['Task'] = i # each column in the aggregated df = a 'task'\n",
    "        mydict['Start'] = start # the first time each column is nonzero\n",
    "        mydict['Finish'] = end # the last time each column is nonzero\n",
    "        mylist.append(mydict)\n",
    "    \n",
    "    mydf = pd.DataFrame(mylist)\n",
    "    mydf.reset_index(inplace = True, drop = True) \n",
    "        \n",
    "    # If plotting caregiver IDs, need to do some more organizing (because lots of data)\n",
    "    if agg_cgid == True:\n",
    "        mydf['Resource'] = mydf['Task'].map(cgid_dict)\n",
    "        mydf['Resource'].fillna('None', inplace = True) # filling null values in the Resource column\n",
    "        mydf = mydf.sort_values(by = ['Resource','Start','Finish'])\n",
    "        \n",
    "        # preserving order of sorting by overwriting caregiver IDs with index\n",
    "        mydf.reset_index(inplace = True) # get column for index\n",
    "        mydf.drop(columns = 'Task', inplace = True) # dropping the task\n",
    "        mydf.rename(columns = {'index': 'Task'}, inplace = True)\n",
    "        \n",
    "        # gantt chart settings\n",
    "        fig = ff.create_gantt(mydf, colors = colors, index_col = 'Resource', show_colorbar = True)\n",
    "    \n",
    "    else:\n",
    "        mydf = mydf.sort_values(by = ['Start','Finish'])\n",
    "        fig = ff.create_gantt(mydf) # no other args\n",
    "    \n",
    "    return iplot(fig)  # plot gantt chart"
   ]
  },
  {
   "cell_type": "markdown",
   "metadata": {},
   "source": [
    "#####  Caregiver IDs over time"
   ]
  },
  {
   "cell_type": "code",
   "execution_count": null,
   "metadata": {},
   "outputs": [],
   "source": [
    "types['cg_type'].value_counts()"
   ]
  },
  {
   "cell_type": "code",
   "execution_count": null,
   "metadata": {},
   "outputs": [],
   "source": [
    "types['cg_type'].fillna('Other', inplace = True)"
   ]
  },
  {
   "cell_type": "code",
   "execution_count": null,
   "metadata": {
    "scrolled": true
   },
   "outputs": [],
   "source": [
    "types2 = types[(types['cg_type']=='Other')|(types['cg_type']=='RN')|(types['cg_type']=='Respiratory')]"
   ]
  },
  {
   "cell_type": "code",
   "execution_count": null,
   "metadata": {},
   "outputs": [],
   "source": [
    "#agg_df(types, 'cg_type')"
   ]
  },
  {
   "cell_type": "code",
   "execution_count": null,
   "metadata": {},
   "outputs": [],
   "source": [
    "cg_agg, cols = agg_df(types2, 'cgid')"
   ]
  },
  {
   "cell_type": "code",
   "execution_count": null,
   "metadata": {},
   "outputs": [],
   "source": [
    "cg_agg.head()"
   ]
  },
  {
   "cell_type": "code",
   "execution_count": null,
   "metadata": {
    "scrolled": false
   },
   "outputs": [],
   "source": [
    "make_gantt(cg_agg, cols, colors = colors, agg_cgid = True)"
   ]
  },
  {
   "cell_type": "code",
   "execution_count": null,
   "metadata": {},
   "outputs": [],
   "source": []
  }
 ],
 "metadata": {
  "kernelspec": {
   "display_name": "Python 3",
   "language": "python",
   "name": "python3"
  },
  "language_info": {
   "codemirror_mode": {
    "name": "ipython",
    "version": 3
   },
   "file_extension": ".py",
   "mimetype": "text/x-python",
   "name": "python",
   "nbconvert_exporter": "python",
   "pygments_lexer": "ipython3",
   "version": "3.7.3"
  }
 },
 "nbformat": 4,
 "nbformat_minor": 2
}
