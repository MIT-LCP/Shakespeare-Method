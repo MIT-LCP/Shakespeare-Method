{
 "cells": [
  {
   "cell_type": "markdown",
   "metadata": {},
   "source": [
    "# 1.2.x_create_groups_concat_notes\n",
    "+ python 2.7.x\n",
    "+ from the mimic iii PostgreSQL database \n",
    "+ label admissions as **transfused** or **control** based on the ICD9 codes and inputs (labeled with our custom dictionary). \n",
    "+ all the notes for each admission (hadm_id) get ordered by time and concatenated  into one note per admission.\n",
    "+ create tables for transfused `transfused_notes_sink` and control `ctrl_notes_sink`  \n",
    "----------\n",
    "+ corrected issues with infants (3/19/19). by inner join the icd9 tables with patients_adult\n",
    "+ added ability to add more data to the top of each note (charttime, providerID, note type) (5/16/19)"
   ]
  },
  {
   "cell_type": "markdown",
   "metadata": {},
   "source": [
    "## 1. import libraries, connect to mimic database"
   ]
  },
  {
   "cell_type": "code",
   "execution_count": 15,
   "metadata": {
    "collapsed": true
   },
   "outputs": [],
   "source": [
    "conn.commit();\n",
    "cur.close();\n",
    "conn.close();"
   ]
  },
  {
   "cell_type": "code",
   "execution_count": 1,
   "metadata": {},
   "outputs": [
    {
     "name": "stdout",
     "output_type": "stream",
     "text": [
      "last ran:  2019-12-24 23:53:36.145380\n",
      "Python Version: 3.7.3 (\n",
      "operating system: darwin\n",
      "pandas version: 0.24.2\n",
      "sqlalchemy version: 1.3.3\n",
      "psycopg2 version: 2.7.6.1\n",
      "tqdm version: 4.32.1\n"
     ]
    }
   ],
   "source": [
    "import sys\n",
    "\n",
    "import time\n",
    "from datetime import datetime\n",
    "import datetime\n",
    "\n",
    "import pandas as pd\n",
    "import random\n",
    "\n",
    "from tqdm import tnrange, tqdm_notebook\n",
    "from time import sleep\n",
    "\n",
    "from importlib_metadata import version\n",
    "\n",
    "# things to connect to the posgres database\n",
    "import psycopg2\n",
    "from sqlalchemy import create_engine, update, event\n",
    "POSTGRES_CONNECT = os.environ.get(\"POSTGRES_CONNECT\")\n",
    "POSTGRES_ENGINE = os.environ.get(\"POSTGRES_ENGINE\")\n",
    "conn = psycopg2.connect(POSTGRES_CONNECT)\n",
    "cur = conn.cursor();\n",
    "cur.execute(\"\"\"SET search_path = mimiciii;\"\"\")\n",
    "engine = create_engine(POSTGRES_ENGINE)\n",
    "\n",
    "libraries = ['pandas','sqlalchemy','psycopg2','tqdm']\n",
    "print('last ran: ',datetime.now() )\n",
    "print(\"Python Version:\", sys.version[0:7])\n",
    "print( \"operating system:\", sys.platform)\n",
    "\n",
    "for lib in libraries:\n",
    "    print(lib + ' version: ' + version(lib))"
   ]
  },
  {
   "cell_type": "markdown",
   "metadata": {},
   "source": [
    "## 2.  Create ICD-9 groups of admissions \n",
    "+ use the identified ICD-9 codes from RB (7/20/18)\n",
    "+ create transfue group\n",
    "+ create grey group\n",
    "+ create control group (everything that's not transfuse or grey)\n",
    "\n",
    "### 2.1 create tranfusion group from table that lists procedures by admission\n",
    "+ pull out rows from `procedures_icd` that\n",
    "       + have one of these icd9 codes [9901, 9903,9904, 9905, 9907]\n",
    "       + exist in the `patients_adult` table \n",
    "+ admissions (hadm_id) = 7514"
   ]
  },
  {
   "cell_type": "code",
   "execution_count": 4,
   "metadata": {},
   "outputs": [
    {
     "name": "stdout",
     "output_type": "stream",
     "text": [
      " transf_admissions_count  code_count\n",
      "                    7514           5\n"
     ]
    }
   ],
   "source": [
    "cur.execute(\"\"\"\n",
    "DROP TABLE IF EXISTS mimiciii.transfusion_icd9;\n",
    "\n",
    "SELECT p.*, i.icd9_code, i.hadm_id\n",
    "    INTO transfusion_icd9\n",
    "FROM mimiciii.procedures_icd i\n",
    "INNER JOIN mimiciii.patients_adult p\n",
    "    ON i.subject_id=p.subject_id\n",
    "    WHERE i.icd9_code IN ('9901','9903','9904','9905','9907');\"\"\")\n",
    "\n",
    "# get counts of transfusion admissions using only icd9 selection criteria. \n",
    "cur.execute(\"\"\"\n",
    "SELECT COUNT(DISTINCT hadm_id) AS transf_admissions_count, \n",
    "COUNT(distinct icd9_code) AS code_count\n",
    "FROM mimiciii.transfusion_icd9\n",
    ";\"\"\")\n",
    "\n",
    "print(pd.DataFrame(cur.fetchall(), columns=[ 'transf_admissions_count','code_count']).to_string(index=False))"
   ]
  },
  {
   "cell_type": "markdown",
   "metadata": {},
   "source": [
    "### 2.2 create grey group from table that lists procedures (icd-9 codes) by admission\n",
    "+ pull out rows from `procedures_icd` that\n",
    "       + have one of these icd9 codes [9900, 9902]\n",
    "       + exist in the `patients_adult` table \n",
    "+ unique admissions (hadm_id) = 64"
   ]
  },
  {
   "cell_type": "code",
   "execution_count": 5,
   "metadata": {},
   "outputs": [
    {
     "name": "stdout",
     "output_type": "stream",
     "text": [
      " grey_admissions_count  code_count\n",
      "                    64           2\n"
     ]
    }
   ],
   "source": [
    "cur.execute(\"\"\"\n",
    "DROP TABLE IF EXISTS mimiciii.grey_icd9;\n",
    "\n",
    "SELECT p.*, i.icd9_code, i.hadm_id\n",
    "    INTO mimiciii.grey_icd9\n",
    "FROM mimiciii.procedures_icd i\n",
    "INNER JOIN mimiciii.patients_adult p\n",
    "    ON i.subject_id=p.subject_id\n",
    "    WHERE i.icd9_code IN ('9900','9902');\"\"\")\n",
    "\n",
    "# get counts of grey admissions using only icd9 selection criteria. \n",
    "cur.execute(\"\"\"\n",
    "SELECT COUNT(DISTINCT hadm_id) AS grey_admissions_count, \n",
    "    COUNT(DISTINCT icd9_code) AS code_count\n",
    "FROM mimiciii.grey_icd9;\"\"\")\n",
    "\n",
    "print(pd.DataFrame(cur.fetchall(), columns=[ 'grey_admissions_count','code_count']).to_string(index=False))"
   ]
  },
  {
   "cell_type": "markdown",
   "metadata": {},
   "source": [
    "### 2.3 create control icd9 group `ctrl_icd9`  from table that lists procedures (icd-9 codes) by admission\n",
    "+ keep all admissions that are not in the `transfusion_icd9` or the `grey_icd9` tables\n",
    "+ are in the `patients_adult` table\n",
    "+ this way we end up with only admissions that have never been assigned one of our transfusion or grey icd9 procedure codes\n",
    "+ the 'IS NOT TRUE' is there because of Null values, otherwise we would use 'NOT IN'\n",
    "+ unique admissions = 34269"
   ]
  },
  {
   "cell_type": "code",
   "execution_count": 6,
   "metadata": {},
   "outputs": [
    {
     "name": "stdout",
     "output_type": "stream",
     "text": [
      " ctrl_admissions_count  code_count\n",
      "                 34269        1871\n"
     ]
    }
   ],
   "source": [
    "cur.execute(\"\"\"\n",
    "DROP TABLE IF EXISTS mimiciii.ctrl_icd9;\n",
    "\n",
    "SELECT p.*, c.icd9_code, c.hadm_id\n",
    "    INTO mimiciii.ctrl_icd9 \n",
    "FROM mimiciii.procedures_icd c\n",
    "\n",
    "INNER JOIN mimiciii.patients_adult p\n",
    "    ON c.subject_id=p.subject_id\n",
    "\n",
    "    WHERE (c.subject_id IN (\n",
    "            SELECT  x.subject_id \n",
    "            FROM mimiciii.grey_icd9 x))\n",
    "        IS NOT TRUE\n",
    "        \n",
    "    AND (c.subject_id IN (\n",
    "            SELECT  t.subject_id \n",
    "            FROM mimiciii.transfusion_icd9 t))\n",
    "        IS NOT TRUE\n",
    "    ;\"\"\")\n",
    "\n",
    "# get counts of ctrl admissions using only icd9 selection criteria. \n",
    "cur.execute(\"\"\"\n",
    "SELECT COUNT(DISTINCT hadm_id), \n",
    "COUNT(DISTINCT icd9_code) AS code_count\n",
    "FROM mimiciii.ctrl_icd9;\"\"\")\n",
    "\n",
    "print(pd.DataFrame(cur.fetchall(), columns=[ 'ctrl_admissions_count','code_count']).to_string(index=False))"
   ]
  },
  {
   "cell_type": "markdown",
   "metadata": {},
   "source": [
    "## 3.  Label each input event as transfuse, grey, or control\n",
    "+ load in the D_items identified as  transufe group and Grey group from xlsx sheet (RB 7/19/18)\n",
    "+ use all adult input events to find\n",
    "\n",
    "1. transfuse inputs (T) = inputs ever been assigned a transfuse label\n",
    "2. grey inputs (G) = inputs that have been assigned a grey label\n",
    "3. control inputs (N) = inputs that have only been assigned labels that are NOT transfue or grey"
   ]
  },
  {
   "cell_type": "markdown",
   "metadata": {},
   "source": [
    "### 3.1 Load in the labeled D_items from xlsx sheet"
   ]
  },
  {
   "cell_type": "code",
   "execution_count": 21,
   "metadata": {
    "collapsed": true
   },
   "outputs": [],
   "source": [
    "# create new empty table in mimiciii schema\n",
    "\n",
    "cur.execute(\"\"\"\n",
    "DROP TABLE IF EXISTS mimiciii.transfusion_items_dict;\n",
    "\n",
    "CREATE TABLE mimiciii.transfusion_items_dict \n",
    "(Notes varchar,\n",
    " GRP char(1), \n",
    " ROW_ID int, \n",
    " ITEMID int,\n",
    " LABEL varchar, \n",
    " ABBREVIATION varchar,\n",
    " DBSOURCE varchar,\n",
    " LINKSTO varchar,\n",
    " CATEGORY varchar,\n",
    " UNITNAME varchar,\n",
    " PARAM_TYPE varchar,\n",
    " CONCEPTID varchar,\n",
    " ref varchar);\"\"\")\n",
    "conn.commit()"
   ]
  },
  {
   "cell_type": "code",
   "execution_count": null,
   "metadata": {
    "collapsed": true
   },
   "outputs": [],
   "source": [
    "#Run in postgres command line \n",
    "COPY mimiciii.transfusion_items_dict \n",
    "FROM 'D:\\\\20180717D_ITEMS_related_to_blood_full.csv' \n",
    "DELIMITER ',' CSV HEADER;"
   ]
  },
  {
   "cell_type": "markdown",
   "metadata": {},
   "source": [
    "Verify that the table has been created correctly. \n",
    "+ should have 132 rows total\n",
    "+ T=54\n",
    "+ G=40\n",
    "+ N=38 "
   ]
  },
  {
   "cell_type": "code",
   "execution_count": 7,
   "metadata": {},
   "outputs": [
    {
     "name": "stdout",
     "output_type": "stream",
     "text": [
      "grp  count\n",
      "  N     38\n",
      "  T     54\n",
      "  G     40\n"
     ]
    }
   ],
   "source": [
    "cur.execute(\"\"\"\n",
    "SELECT grp, count(*) \n",
    "    FROM mimiciii.transfusion_items_dict\n",
    "GROUP BY grp;\"\"\")\n",
    "\n",
    "colnames = [desc[0] for desc in cur.description]\n",
    "print(pd.DataFrame(cur.fetchall(), columns=colnames).to_string(index=False))"
   ]
  },
  {
   "cell_type": "markdown",
   "metadata": {},
   "source": [
    "### 3.2 join labeled items with d_items \n",
    "+ everything that isn't in the new dict, gets a grp label of 'N'"
   ]
  },
  {
   "cell_type": "code",
   "execution_count": 8,
   "metadata": {},
   "outputs": [],
   "source": [
    "cur.execute(\"\"\"\n",
    "DROP TABLE IF EXISTS mimiciii.D_items_labeled;\n",
    "\n",
    "SELECT i.*, d.notes\n",
    "    ,CASE WHEN grp IS NULL THEN 'N' ELSE grp END \n",
    "    \n",
    "    INTO mimiciii.D_items_labeled\n",
    "FROM mimiciii.transfusion_items_dict d\n",
    "\n",
    "RIGHT JOIN mimiciii.D_items i\n",
    "    ON i.itemid=d.itemid\n",
    ";\"\"\")\n",
    "\n",
    "conn.commit()"
   ]
  },
  {
   "cell_type": "markdown",
   "metadata": {},
   "source": [
    "### 3.3 Join new D_items with inputs_all to give each input a grp label"
   ]
  },
  {
   "cell_type": "code",
   "execution_count": 9,
   "metadata": {},
   "outputs": [],
   "source": [
    "cur.execute(\"\"\"DROP TABLE IF EXISTS mimiciii.inputs_all_labeled;\"\"\")\n",
    "\n",
    "cur.execute(\"\"\"\n",
    "SELECT d.label,d.grp, i.*\n",
    "    INTO mimiciii.inputs_all_labeled\n",
    "FROM mimiciii.D_items_labeled d\n",
    "    RIGHT JOIN mimiciii.inputs_all i\n",
    "    ON i.itemid=d.itemid\n",
    ";\"\"\")\n",
    "conn.commit()"
   ]
  },
  {
   "cell_type": "markdown",
   "metadata": {},
   "source": [
    "#### Print the number of inputs (non-lab charted items) for each of the groups. \n",
    "+ N = 289,352,348\n",
    "+ T = 153,154\n",
    "+ G = 3872"
   ]
  },
  {
   "cell_type": "code",
   "execution_count": 10,
   "metadata": {},
   "outputs": [
    {
     "name": "stdout",
     "output_type": "stream",
     "text": [
      "grp      count\n",
      "  G       3872\n",
      "  N  289352348\n",
      "  T     153154\n"
     ]
    }
   ],
   "source": [
    "cur.execute(\"\"\"\n",
    "SELECT grp, count(*) \n",
    "    FROM mimiciii.inputs_all_labeled\n",
    "GROUP BY grp;\"\"\")\n",
    "\n",
    "colnames = [desc[0] for desc in cur.description]\n",
    "print(pd.DataFrame(cur.fetchall(), columns=colnames).to_string(index=False))"
   ]
  },
  {
   "cell_type": "markdown",
   "metadata": {},
   "source": [
    "## 4. Create the full list of admissions in transfused group  `transfused_hadm_id`\n",
    "\n",
    "+ Create a table (`transfused_hadm_id`) of transfuse group admission ids (**hadm_id**) from the icd9 (`transfusion_icd9`) and the non-lab chart events (`inputs_all_labeled` **grp=T**) criteria\n",
    "+ Transfusion admissions_count = 21541"
   ]
  },
  {
   "cell_type": "code",
   "execution_count": 11,
   "metadata": {},
   "outputs": [],
   "source": [
    "cur.execute(\"\"\" DROP TABLE IF EXISTS MIMICIII.transfused_hadm_id;\n",
    "\n",
    "SELECT DISTINCT hadm_id\n",
    "    INTO mimiciii.transfused_hadm_id\n",
    "    \n",
    "FROM mimiciii.inputs_all_labeled c\n",
    "    \n",
    "    WHERE grp='T'\n",
    "    AND c.hadm_id IS NOT NULL\n",
    "    UNION\n",
    "\n",
    "SELECT DISTINCT hadm_id\n",
    "FROM mimiciii.transfusion_icd9\n",
    "    WHERE hadm_id IS NOT NULL\n",
    ";\"\"\")"
   ]
  },
  {
   "cell_type": "code",
   "execution_count": 12,
   "metadata": {},
   "outputs": [
    {
     "name": "stdout",
     "output_type": "stream",
     "text": [
      " transfusion admissions_count\n",
      "                        21541\n"
     ]
    }
   ],
   "source": [
    "cur.execute(\"\"\"\n",
    "SELECT count(DISTINCT hadm_id) \n",
    "FROM mimiciii.transfused_hadm_id\n",
    ";\"\"\")\n",
    "print(pd.DataFrame(cur.fetchall(), columns=[ 'transfusion admissions_count']).to_string(index=False))"
   ]
  },
  {
   "cell_type": "markdown",
   "metadata": {},
   "source": [
    "## 5. Create the full list of admissions in grey group  `grey_hadm_id`\n",
    "\n",
    "+ Create a table (`grey_hadm_id`) of grey group admission ids (**hadm_id**) from the icd9 (`grey_icd9`) and the non-lab chart events (`inputs_all_labeled` **grp = G**) criteria\n",
    "+ grey admissions_count = 2373"
   ]
  },
  {
   "cell_type": "code",
   "execution_count": 13,
   "metadata": {},
   "outputs": [],
   "source": [
    "cur.execute(\"\"\" DROP TABLE IF EXISTS MIMICIII.grey_hadm_id;\n",
    "\n",
    "SELECT DISTINCT hadm_id\n",
    "    INTO mimiciii.grey_hadm_id\n",
    "FROM mimiciii.inputs_all_labeled c\n",
    "\n",
    "    WHERE grp='G'\n",
    "    AND hadm_id IS NOT NULL\n",
    "    UNION\n",
    "\n",
    "SELECT DISTINCT hadm_id\n",
    "FROM mimiciii.grey_icd9\n",
    "    WHERE hadm_id IS NOT NULL\n",
    ";\"\"\")"
   ]
  },
  {
   "cell_type": "code",
   "execution_count": 14,
   "metadata": {},
   "outputs": [
    {
     "name": "stdout",
     "output_type": "stream",
     "text": [
      " grey admissions_count\n",
      "                  2373\n"
     ]
    }
   ],
   "source": [
    "cur.execute(\"\"\"\n",
    "SELECT count(DISTINCT hadm_id) \n",
    "FROM mimiciii.grey_hadm_id\n",
    ";\"\"\")\n",
    "print(pd.DataFrame(cur.fetchall(), columns=[ 'grey admissions_count']).to_string(index=False))"
   ]
  },
  {
   "cell_type": "markdown",
   "metadata": {},
   "source": [
    "## 6. Create list of ctrl admissions `ctrl_ids`\n",
    "\n",
    "+ make a list of hadm_ids admissions not in the transfused or grey groups. \n",
    "\n",
    "### 6.1 join all admissions from `ctrl_icd9` and `inputs_all_labeled` = N\n",
    "+ this basically pulls every admission **50,328**"
   ]
  },
  {
   "cell_type": "code",
   "execution_count": 15,
   "metadata": {},
   "outputs": [],
   "source": [
    "cur.execute(\"\"\" DROP TABLE IF EXISTS mimiciii.ctrl_idsa;\n",
    "\n",
    "SELECT DISTINCT i.hadm_id\n",
    "    INTO mimiciii.ctrl_idsa\n",
    "FROM mimiciii.inputs_all_labeled i\n",
    "\n",
    "    WHERE i.grp='N' \n",
    "    AND i.hadm_id IS NOT NULL\n",
    "    UNION\n",
    "    \n",
    "SELECT DISTINCT y.hadm_id\n",
    "FROM mimiciii.ctrl_icd9 y\n",
    "    WHERE y.hadm_id IS NOT NULL\n",
    ";\"\"\")"
   ]
  },
  {
   "cell_type": "code",
   "execution_count": 16,
   "metadata": {},
   "outputs": [
    {
     "name": "stdout",
     "output_type": "stream",
     "text": [
      " admissions\n",
      "      50328\n"
     ]
    }
   ],
   "source": [
    "cur.execute(\"\"\" SELECT COUNT(DISTINCT hadm_id)\n",
    "FROM  mimiciii.ctrl_idsa;\"\"\")\n",
    "\n",
    "ncount=cur.fetchall()\n",
    "print( pd.DataFrame(ncount, columns=[ 'admissions']).to_string(index=False))"
   ]
  },
  {
   "cell_type": "markdown",
   "metadata": {},
   "source": [
    "### 6.2 remove admissions that belong to the `transfused_hadm_id` table or the `grey_hadm_id`\n",
    "+ admissions = 28,128"
   ]
  },
  {
   "cell_type": "code",
   "execution_count": 17,
   "metadata": {},
   "outputs": [],
   "source": [
    "cur.execute(\"\"\" DROP TABLE IF EXISTS mimiciii.ctrl_ids;\n",
    "\n",
    "SELECT DISTINCT i.hadm_id\n",
    "    INTO mimiciii.ctrl_ids\n",
    "FROM mimiciii.ctrl_idsa i\n",
    "\n",
    "    WHERE  i.hadm_id NOT IN (\n",
    "           SELECT  x.hadm_id \n",
    "           FROM mimiciii.transfused_hadm_id x)\n",
    "        \n",
    "    AND i.hadm_id NOT IN (\n",
    "            SELECT g.hadm_id\n",
    "            FROM mimiciii.grey_hadm_id g)\n",
    ";\"\"\")"
   ]
  },
  {
   "cell_type": "code",
   "execution_count": 18,
   "metadata": {},
   "outputs": [
    {
     "name": "stdout",
     "output_type": "stream",
     "text": [
      " admissions\n",
      "      28128\n"
     ]
    }
   ],
   "source": [
    "cur.execute(\"\"\" SELECT COUNT(DISTINCT hadm_id)\n",
    "FROM  mimiciii.ctrl_ids;\"\"\")\n",
    "\n",
    "ncount=cur.fetchall()\n",
    "print( pd.DataFrame(ncount, columns=[ 'admissions']).to_string(index=False))"
   ]
  },
  {
   "cell_type": "markdown",
   "metadata": {},
   "source": [
    "## 7. Get Transfused Notes `xf_notes`\n",
    "\n",
    "### 7.1 Get all notes for admissions (**hadm_id**) that have been identified as transfused group `transfused_hadm_id`\n",
    "+ Print the total number of notes, and unique admissions **21,443**\n",
    "+ keep all types of timestamps \n",
    "        **chartdate** is only a date but is present in every note\n",
    "        \n",
    "        **charttime** and **storetime** are time and date, but are not always present (discharge summary and ECG notes tend to be missing one or both of these\n",
    "        \n",
    "+ also do not use any notes where the provider has indicated that the note is an error (**iserror**=1)\n",
    "+ note that there are 98 less admissions than in `transfused_hadm_id` (step 4), meaning that 98 admissions did not have any data in the `noteevents` table"
   ]
  },
  {
   "cell_type": "code",
   "execution_count": 19,
   "metadata": {},
   "outputs": [],
   "source": [
    "cur.execute(\"\"\"\n",
    "DROP TABLE IF EXISTS mimiciii.transfused_notes;\n",
    "\n",
    "SELECT  B.*\n",
    "INTO mimiciii.transfused_notes\n",
    "    FROM mimiciii.noteevents B\n",
    "    WHERE B.hadm_id IN (\n",
    "            SELECT  x.hadm_id \n",
    "            FROM mimiciii.transfused_hadm_id x)\n",
    "            \n",
    "    AND B.iserror IS NULL\n",
    ";\"\"\")"
   ]
  },
  {
   "cell_type": "code",
   "execution_count": 20,
   "metadata": {},
   "outputs": [
    {
     "name": "stdout",
     "output_type": "stream",
     "text": [
      " total notes count  admissions\n",
      "            874711       21443\n"
     ]
    }
   ],
   "source": [
    "cur.execute(\"\"\"SELECT COUNT(*), COUNT(DISTINCT hadm_id) FROM  mimiciii.transfused_notes;\"\"\")\n",
    "ncount=cur.fetchall()\n",
    "print( pd.DataFrame(ncount, columns=[ 'total notes count','admissions']).to_string(index=False))"
   ]
  },
  {
   "cell_type": "markdown",
   "metadata": {},
   "source": [
    "## 7.2 One Document per Admission\n",
    "\n",
    "For each admission, concatenate all the notes for that admission into one note (thus, each admission has one **document**). Create a table of these admission notes using the hospital admission id (hadm_id) as the identifier rather than the note id (row_id)\n",
    "\n",
    "### Transfusion Notes by Admission `transfused_notes_sink` with or without metadata\n",
    "+ group by admission ID\n",
    "+ order by note date ('note_dt')\n",
    "+ concatenate all notes for that admission ID into one string\n",
    "+ metadata==True: concatenate all notes and other data (date(s), provider=cgid, note, type=category,description) for that admission ID into one string\n",
    "+ save as transfused_notes_sink or transfused_notes_sink_metadata\n",
    "\n",
    "### 7.2.1 Create  new table for results `transfused_notes_sink` or `transfused_notes_sink_metadata`\n",
    "+ hadm_id\n",
    "+ text (concatenate notes and/or other data)"
   ]
  },
  {
   "cell_type": "code",
   "execution_count": 3,
   "metadata": {},
   "outputs": [],
   "source": [
    "# set whether you want to include metadata at the top of each note (we don't use this for the NLP, but is' useful for the viewing by SMEs)\n",
    "metadata = False\n",
    "\n",
    "if metadata==False:\n",
    "    \n",
    "    cur.execute(\"\"\"DROP TABLE IF EXISTS mimiciii.transfused_notes_sink;\n",
    "\n",
    "    CREATE TABLE mimiciii.transfused_notes_sink\n",
    "    (hadm_id int,\n",
    "     text varchar);\"\"\")\n",
    "    \n",
    "else:\n",
    "    cur.execute(\"\"\"DROP TABLE IF EXISTS mimiciii.transfused_notes_sink_metadata;\n",
    "\n",
    "    CREATE TABLE mimiciii.transfused_notes_sink_metadata\n",
    "    (hadm_id int,\n",
    "     text varchar);\"\"\")\n",
    "\n",
    "conn.commit();"
   ]
  },
  {
   "cell_type": "markdown",
   "metadata": {},
   "source": [
    "### 7.2.2 create list of unique hadm_ids "
   ]
  },
  {
   "cell_type": "code",
   "execution_count": 4,
   "metadata": {},
   "outputs": [
    {
     "data": {
      "text/plain": [
       "21443"
      ]
     },
     "execution_count": 4,
     "metadata": {},
     "output_type": "execute_result"
    }
   ],
   "source": [
    "xf = pd.read_sql(\"\"\"\n",
    "SELECT hadm_id\n",
    "FROM mimiciii.transfused_notes \"\"\", engine)\n",
    "\n",
    "# get list of ids\n",
    "xf_ids = xf.hadm_id.unique()\n",
    "len(xf_ids)"
   ]
  },
  {
   "cell_type": "markdown",
   "metadata": {},
   "source": [
    "### 7.2.3 function that lets us make multiple  requests to the postgres using pandas read_sql"
   ]
  },
  {
   "cell_type": "code",
   "execution_count": 5,
   "metadata": {},
   "outputs": [],
   "source": [
    "@event.listens_for(engine, 'before_cursor_execute')\n",
    "def receive_before_cursor_execute(conn, cursor, statement, params, context, executemany):\n",
    "    #print(\"FUNC call\")\n",
    "    if executemany:\n",
    "        cursor.fast_executemany = True"
   ]
  },
  {
   "cell_type": "markdown",
   "metadata": {},
   "source": [
    "### 7.2.4 function to pull notes, concatenate and save\n",
    "\n",
    "+ this will take a few hours(2.7) to run\n",
    "+ iterate through for each unique admission (hadm_id)\n",
    "+ pull all notes for an admission\n",
    "+ order notes by charttime , then storetime\n",
    "+ concatenate\n",
    "+ save as one big note to new table"
   ]
  },
  {
   "cell_type": "code",
   "execution_count": 6,
   "metadata": {
    "scrolled": true
   },
   "outputs": [
    {
     "data": {
      "application/vnd.jupyter.widget-view+json": {
       "model_id": "b2cf2219e5a346b88ef94767a8bb0720",
       "version_major": 2,
       "version_minor": 0
      },
      "text/plain": [
       "HBox(children=(IntProgress(value=0, max=21443), HTML(value='')))"
      ]
     },
     "metadata": {},
     "output_type": "display_data"
    },
    {
     "name": "stdout",
     "output_type": "stream",
     "text": [
      "\n",
      "7052.120042562485\n"
     ]
    }
   ],
   "source": [
    "s = time.time()\n",
    "\n",
    "for j in tqdm_notebook(xf_ids):\n",
    "    \n",
    "    if metadata == False:\n",
    "        \n",
    "        table_name = 'transfused_notes_sink'\n",
    "        \n",
    "        sql = \"\"\"\n",
    "\n",
    "        SELECT  hadm_id, chartdate, charttime, storetime, text\n",
    "        FROM mimiciii.transfused_notes \n",
    "            WHERE hadm_id in ({0})\n",
    "        GROUP BY hadm_id, chartdate, charttime, storetime, text\n",
    "        ORDER BY chartdate, charttime, storetime\"\"\"\n",
    "\n",
    "        # run sql query above to pull all notes for one admission (in order by date)\n",
    "        sql = sql.format(j)\n",
    "        xnotes=pd.read_sql(sql, engine)      \n",
    "       \n",
    "        xnotes = xnotes.loc[:,'text']\n",
    "    \n",
    "    else: \n",
    "        \n",
    "        table_name = 'transfused_notes_sink_metadata'\n",
    "        \n",
    "        sql = \"\"\"\n",
    "    \n",
    "        SELECT subject_id, hadm_id, chartdate, charttime, storetime, category, cgid, description, text\n",
    "        FROM mimiciii.transfused_notes \n",
    "            WHERE hadm_id in ({0})\n",
    "        GROUP BY subject_id, hadm_id, chartdate, charttime, storetime, category, cgid, description, text\n",
    "        ORDER BY chartdate, charttime, storetime\"\"\"\n",
    "\n",
    "        # run sql query above to pull all notes for one admission (in order by date)\n",
    "        # concatenate notes and all other cols (metadata)\n",
    "        # all the metadata gets put into one token for duplicate removal purposes\n",
    "        \n",
    "        sql = sql.format(j)\n",
    "        xnotes=pd.read_sql(sql, engine)\n",
    "\n",
    "        xnotes.loc[:,'text2'] = xnotes.loc[:,'text'] \n",
    "        xnotes.iloc[:,-2] = '. '\n",
    "        \n",
    "    # put a a period + whitespace to designate the end start and end of a note     \n",
    "    xnotes['separator'] = '. '\n",
    "    \n",
    "    xtext = xnotes.to_csv(None, header=False, index=False) \n",
    "\n",
    "    # save as a new dataframe\n",
    "    xtext2 = [(j, xtext)]\n",
    "    xfulltext=pd.DataFrame(xtext2, columns=['hadm_id', 'text'])\n",
    "    \n",
    "    # append user and single note to the new table in database\n",
    "\n",
    "    xfulltext.to_sql(table_name, con=engine, if_exists='append', chunksize=1, index=False, schema='mimiciii')\n",
    "    \n",
    "print(time.time() - s)\n",
    "\n",
    "conn.commit()"
   ]
  },
  {
   "cell_type": "code",
   "execution_count": null,
   "metadata": {},
   "outputs": [],
   "source": [
    "if metadata==False:\n",
    "    cur.execute(\"\"\" SELECT COUNT(DISTINCT hadm_id) FROM transfused_notes_sink;\"\"\")\n",
    "else:\n",
    "    cur.execute(\"\"\" SELECT COUNT(DISTINCT hadm_id) FROM transfused_notes_sink_metadata;\"\"\")\n",
    "\n",
    "print( pd.DataFrame(cur.fetchall()).to_string(index=False))"
   ]
  },
  {
   "cell_type": "code",
   "execution_count": null,
   "metadata": {},
   "outputs": [],
   "source": [
    "if metadata==False:\n",
    "    cur.execute(\"\"\" SELECT COUNT(*) FROM transfused_notes_sink;\"\"\")\n",
    "else:\n",
    "    cur.execute(\"\"\" SELECT COUNT(DISTINCT hadm_id) FROM transfused_notes_sink_metadata;\"\"\")\n",
    "\n",
    "print( pd.DataFrame(cur.fetchall()).to_string(index=False))"
   ]
  },
  {
   "cell_type": "markdown",
   "metadata": {},
   "source": [
    "## 8. Get Control Notes `ctrl_notes`\n",
    "\n",
    "### 8.1 Get all notes for admissions (**hadm_id**) that have been identified as control group `ctrl_ids`\n",
    "+ Print the total number of notes, and unique admissions\n",
    "+ note that there are **27,888** admissions w/ notes (240 control group admissions did not have data in the `noteevents` table. "
   ]
  },
  {
   "cell_type": "code",
   "execution_count": 7,
   "metadata": {},
   "outputs": [],
   "source": [
    "cur.execute(\"\"\" DROP TABLE IF EXISTS mimiciii.ctrl_notes;\n",
    "SELECT n.*\n",
    "    INTO ctrl_notes\n",
    "FROM noteevents n\n",
    "    WHERE n.hadm_ID IN (\n",
    "        SELECT DISTINCT c.hadm_id\n",
    "        FROM ctrl_ids c)\n",
    "        \n",
    "    AND n.iserror IS NULL\n",
    "    \n",
    "    ;\"\"\")\n",
    "\n",
    "conn.commit()"
   ]
  },
  {
   "cell_type": "code",
   "execution_count": 8,
   "metadata": {},
   "outputs": [
    {
     "name": "stdout",
     "output_type": "stream",
     "text": [
      " total notes count  ctrl admissions with notes\n",
      "            535639                       27888\n"
     ]
    }
   ],
   "source": [
    "cur.execute(\"\"\" SELECT COUNT(*), COUNT(DISTINCT hadm_id) FROM ctrl_notes;\"\"\")\n",
    "print( pd.DataFrame(cur.fetchall(), columns=[ 'total notes count', 'ctrl admissions with notes']).to_string(index=False))"
   ]
  },
  {
   "cell_type": "markdown",
   "metadata": {},
   "source": [
    "### 8.2 Control  Notes by Admission `ctrl_notes_sink` or `ctrl_notes_sink_metadata`\n",
    "+ group by admission ID\n",
    "+ order by note date ('note_dt')\n",
    "+ concatenate all notes for that admission ID into one string\n",
    "+ save as ctrl_notes_sink\n",
    "\n",
    "### 8.2.1 Create a new table for the results `ctrl_notes_sink` or `ctrl_notes_sink_metadata`\n",
    "+ hadm_id\n",
    "+ subject_id\n",
    "+ text (concatenated notes + metadata (if metadata==True)"
   ]
  },
  {
   "cell_type": "code",
   "execution_count": 9,
   "metadata": {},
   "outputs": [],
   "source": [
    "if metadata==False:\n",
    "    cur.execute(\"\"\"DROP TABLE IF EXISTS ctrl_notes_sink;\n",
    "\n",
    "    CREATE TABLE mimiciii.ctrl_notes_sink\n",
    "    (hadm_id int,\n",
    "     text varchar);\"\"\")\n",
    "    \n",
    "else:\n",
    "    cur.execute(\"\"\"DROP TABLE IF EXISTS ctrl_notes_sink_metadata;\n",
    "\n",
    "    CREATE TABLE mimiciii.ctrl_notes_sink_metadata\n",
    "    (hadm_id int,\n",
    "     text varchar);\"\"\")\n",
    "\n",
    "conn.commit();"
   ]
  },
  {
   "cell_type": "markdown",
   "metadata": {},
   "source": [
    "### 8.2.2 pull the unique hadm_ids (identifies each admission) and make a list of them"
   ]
  },
  {
   "cell_type": "code",
   "execution_count": 10,
   "metadata": {},
   "outputs": [],
   "source": [
    "ctrl_ids = pd.read_sql(\"\"\"\n",
    "SELECT hadm_id\n",
    "FROM mimiciii.ctrl_notes\"\"\", engine)\n",
    "\n",
    "cids= ctrl_ids.hadm_id.unique()"
   ]
  },
  {
   "cell_type": "markdown",
   "metadata": {},
   "source": [
    "### 8.3.4 Function to pull and concatenate and save \n",
    "+ this takes a few hours (2.3 hrs) to run\n",
    "+ iterates through each hadm_id\n",
    "+ pulls all notes (and other data if chosen)\n",
    "+ orders notes in order of charttime, then storetime\n",
    "+ concatenate and save in new table"
   ]
  },
  {
   "cell_type": "code",
   "execution_count": 11,
   "metadata": {
    "scrolled": true
   },
   "outputs": [
    {
     "data": {
      "application/vnd.jupyter.widget-view+json": {
       "model_id": "69a797be74da4765bf9d358b29414cb7",
       "version_major": 2,
       "version_minor": 0
      },
      "text/plain": [
       "HBox(children=(IntProgress(value=0, max=27888), HTML(value='')))"
      ]
     },
     "metadata": {},
     "output_type": "display_data"
    },
    {
     "name": "stdout",
     "output_type": "stream",
     "text": [
      "\n",
      "total time= 87.5706007361412 min\n"
     ]
    }
   ],
   "source": [
    "s = time.time()\n",
    "\n",
    "for i in tqdm_notebook(cids):\n",
    "    \n",
    "    if metadata==False:\n",
    "        \n",
    "        table_name = 'ctrl_notes_sink'\n",
    "        \n",
    "        sql = \"\"\"\n",
    "\n",
    "        SELECT  hadm_id, chartdate, charttime, storetime,text\n",
    "        FROM mimiciii.ctrl_notes \n",
    "            WHERE hadm_id IN ({0})\n",
    "        GROUP BY  hadm_id, chartdate, charttime, storetime, text\n",
    "        ORDER BY chartdate, charttime, storetime\"\"\"\n",
    "\n",
    "        sql = sql.format(i)\n",
    "        cnotes = pd.read_sql(sql, engine)\n",
    "        cnotes = cnotes.loc[:,'text']\n",
    "        \n",
    "    else:\n",
    "        \n",
    "        table_name = 'ctrl_notes_sink_metadata'\n",
    "        \n",
    "        sql = \"\"\"\n",
    "    \n",
    "        SELECT subject_id, hadm_id, chartdate, charttime, storetime, category, cgid, description, text\n",
    "        FROM mimiciii.ctrl_notes \n",
    "            WHERE hadm_id IN ({0})\n",
    "        GROUP BY subject_id, hadm_id, chartdate, charttime, storetime, category, cgid, description, text\n",
    "        ORDER BY chartdate, charttime, storetime\"\"\"\n",
    "\n",
    "        sql = sql.format(i)\n",
    "        cnotes = pd.read_sql(sql, engine)\n",
    "\n",
    "        cnotes.loc[:,'text2'] = cnotes.loc[:,'text'] \n",
    "        cnotes.iloc[:,-2] = '. '\n",
    "    \n",
    "    \n",
    "    cnotes['separator'] = '. '\n",
    " \n",
    "    #CONCAT NOTES\n",
    "    ctext = cnotes.to_csv(None, header=False, index=False)\n",
    "  \n",
    "    #put into a data frame with hadm_id\n",
    "    ctext2 = [(i, ctext)]\n",
    "    cfulltext = pd.DataFrame(ctext2, columns=['hadm_id', 'text'])\n",
    "    \n",
    "    \n",
    "    # append user and single note to the new table in database\n",
    "\n",
    "    cfulltext.to_sql(table_name, con=engine, if_exists='append', chunksize=1, index=False, schema='mimiciii')\n",
    "    \n",
    "print('total time=',((time.time() - s)/60),'min')\n",
    "\n",
    "conn.commit()"
   ]
  },
  {
   "cell_type": "code",
   "execution_count": 17,
   "metadata": {},
   "outputs": [
    {
     "name": "stdout",
     "output_type": "stream",
     "text": [
      " total notes count  ctrl admissions with notes\n",
      "             27888                       27888\n"
     ]
    }
   ],
   "source": [
    "if metadata==False:\n",
    "    cur.execute(\"\"\" SELECT COUNT(*), COUNT(DISTINCT hadm_id) FROM ctrl_notes_sink;\"\"\")\n",
    "else:\n",
    "    cur.execute(\"\"\" SELECT COUNT(*), COUNT(DISTINCT hadm_id) FROM ctrl_notes_sink_metadata;\"\"\")\n",
    "\n",
    "print( pd.DataFrame(cur.fetchall(), columns=[ 'total notes count', 'ctrl admissions with notes']).to_string(index=False))\n"
   ]
  },
  {
   "cell_type": "markdown",
   "metadata": {},
   "source": [
    "## 9. Clean Up, Commit, and Close"
   ]
  },
  {
   "cell_type": "code",
   "execution_count": 12,
   "metadata": {},
   "outputs": [],
   "source": [
    "conn.commit()\n",
    "cur.close()\n",
    "conn.close()"
   ]
  }
 ],
 "metadata": {
  "kernelspec": {
   "display_name": "Python 2",
   "language": "python",
   "name": "python2"
  },
  "language_info": {
   "codemirror_mode": {
    "name": "ipython",
    "version": 2
   },
   "file_extension": ".py",
   "mimetype": "text/x-python",
   "name": "python",
   "nbconvert_exporter": "python",
   "pygments_lexer": "ipython2",
   "version": "2.7.16"
  }
 },
 "nbformat": 4,
 "nbformat_minor": 2
}
