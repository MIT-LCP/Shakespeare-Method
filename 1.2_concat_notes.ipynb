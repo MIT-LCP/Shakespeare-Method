{
 "cells": [
  {
   "cell_type": "markdown",
   "metadata": {},
   "source": [
    "# 1.2_concat_notes\n",
    "+ python 2.7.x\n",
    "+ from the mimic iii PostgreSQL database \n",
    "+ all the notes for each admission (hadm_id) get ordered by time and concatenated  into one note per admission.\n",
    "+ create tables for transfused `transfused_notes_sink` and control `ctrl_notes_sink`  "
   ]
  },
  {
   "cell_type": "markdown",
   "metadata": {},
   "source": [
    "##  import libraries, connect to mimic database"
   ]
  },
  {
   "cell_type": "code",
   "execution_count": 15,
   "metadata": {
    "collapsed": true
   },
   "outputs": [],
   "source": [
    "conn.commit();\n",
    "cur.close();\n",
    "conn.close();"
   ]
  },
  {
   "cell_type": "code",
   "execution_count": 1,
   "metadata": {},
   "outputs": [
    {
     "name": "stdout",
     "output_type": "stream",
     "text": [
      "last ran:  2019-12-24 23:53:36.145380\n",
      "Python Version: 3.7.3 (\n",
      "operating system: darwin\n",
      "pandas version: 0.24.2\n",
      "sqlalchemy version: 1.3.3\n",
      "psycopg2 version: 2.7.6.1\n",
      "tqdm version: 4.32.1\n"
     ]
    }
   ],
   "source": [
    "import sys\n",
    "\n",
    "import time\n",
    "from datetime import datetime\n",
    "import datetime\n",
    "\n",
    "import pandas as pd\n",
    "import random\n",
    "\n",
    "from tqdm import tnrange, tqdm_notebook\n",
    "from time import sleep\n",
    "\n",
    "from importlib_metadata import version\n",
    "\n",
    "# things to connect to the posgres database\n",
    "import psycopg2\n",
    "from sqlalchemy import create_engine, update, event\n",
    "\n",
    "POSTGRES_CONNECT = os.environ.get(\"POSTGRES_CONNECT\")\n",
    "POSTGRES_ENGINE = os.environ.get(\"POSTGRES_ENGINE\")\n",
    "conn = psycopg2.connect(POSTGRES_CONNECT)\n",
    "cur = conn.cursor();\n",
    "cur.execute(\"\"\"SET search_path = mimiciii;\"\"\")\n",
    "engine = create_engine(POSTGRES_ENGINE)\n",
    "\n",
    "libraries = ['pandas','sqlalchemy','psycopg2','tqdm']\n",
    "print('last ran: ',datetime.now() )\n",
    "print(\"Python Version:\", sys.version[0:7])\n",
    "print( \"operating system:\", sys.platform)\n",
    "\n",
    "for lib in libraries:\n",
    "    print(lib + ' version: ' + version(lib))"
   ]
  },
  {
   "cell_type": "markdown",
   "metadata": {},
   "source": [
    "## 1.2.1. Load Transfused Notes `xf_notes`\n",
    "\n",
    "+ Get all notes for admissions (**hadm_id**) that have been identified as transfused group `transfused_hadm_id`\n",
    "+ Print the total number of notes, and unique admissions **21,443**\n",
    "+ keep all types of timestamps \n",
    "        **chartdate** is only a date but is present in every note\n",
    "        \n",
    "        **charttime** and **storetime** are timestamps, but are not present in every note (discharge summary and ECG notes tend to be missing one or both of these\n",
    "        \n",
    "+ do not use any notes where the provider has indicated that the note is an error (**iserror**=1)\n",
    "+ note that there are 98 less admissions than in `transfused_hadm_id`, meaning that 98 admissions did not have any data in the `noteevents` table"
   ]
  },
  {
   "cell_type": "code",
   "execution_count": 19,
   "metadata": {},
   "outputs": [],
   "source": [
    "cur.execute(\"\"\"\n",
    "DROP TABLE IF EXISTS mimiciii.transfused_notes;\n",
    "\n",
    "SELECT  B.*\n",
    "INTO mimiciii.transfused_notes\n",
    "    FROM mimiciii.noteevents B\n",
    "    WHERE B.hadm_id IN (\n",
    "            SELECT  x.hadm_id \n",
    "            FROM mimiciii.transfused_hadm_id x)\n",
    "            \n",
    "    AND B.iserror IS NULL\n",
    ";\"\"\")"
   ]
  },
  {
   "cell_type": "markdown",
   "metadata": {},
   "source": [
    "Print counts for number of notes total, and number of admissions"
   ]
  },
  {
   "cell_type": "code",
   "execution_count": 20,
   "metadata": {},
   "outputs": [
    {
     "name": "stdout",
     "output_type": "stream",
     "text": [
      " total notes count  admissions\n",
      "            874711       21443\n"
     ]
    }
   ],
   "source": [
    "cur.execute(\"\"\"SELECT COUNT(*), COUNT(DISTINCT hadm_id) FROM  mimiciii.transfused_notes;\"\"\")\n",
    "ncount=cur.fetchall()\n",
    "print( pd.DataFrame(ncount, columns=[ 'total notes count','admissions']).to_string(index=False))"
   ]
  },
  {
   "cell_type": "markdown",
   "metadata": {},
   "source": [
    "## 1.2.2 One Document per Admission\n",
    "\n",
    "For each admission, concatenate all the notes for that admission into one note (thus, each admission has one **document**). Create a table of these admission notes using the hospital admission id (hadm_id) as the identifier rather than the note id (row_id)\n",
    "\n",
    "### Transfused Notes by Admission `transfused_notes_sink` (without metadata, best for analysis) or or `transfused_notes_sink_metadata` (with metadata at the top of the concatenated note, best for consumption by a subject matter expert or displaying the notes)\n",
    "\n",
    "+ group by admission ID\n",
    "+ order by note date (**note_dt**)\n",
    "+ concatenate all notes for that admission ID into one string\n",
    "+ metadata==True: concatenate all notes and other data (date(s), provider=cgid, note, type=category,description) for that admission ID into one string\n",
    "+ save as transfused_notes_sink or transfused_notes_sink_metadata\n",
    "\n",
    "### The new table contains the following columns for each unique admission: \n",
    "+ hadm_id\n",
    "+ text (concatenate notes and/or other data)"
   ]
  },
  {
   "cell_type": "code",
   "execution_count": 3,
   "metadata": {},
   "outputs": [],
   "source": [
    "# set whether you want to include metadata at the top of each note (we don't use this for the NLP, but is' useful for the viewing by SMEs)\n",
    "metadata = False\n",
    "\n",
    "if metadata==False:\n",
    "    \n",
    "    cur.execute(\"\"\"DROP TABLE IF EXISTS mimiciii.transfused_notes_sink;\n",
    "\n",
    "    CREATE TABLE mimiciii.transfused_notes_sink\n",
    "    (hadm_id int,\n",
    "     text varchar);\"\"\")\n",
    "    \n",
    "else:\n",
    "    cur.execute(\"\"\"DROP TABLE IF EXISTS mimiciii.transfused_notes_sink_metadata;\n",
    "\n",
    "    CREATE TABLE mimiciii.transfused_notes_sink_metadata\n",
    "    (hadm_id int,\n",
    "     text varchar);\"\"\")\n",
    "\n",
    "conn.commit();"
   ]
  },
  {
   "cell_type": "markdown",
   "metadata": {},
   "source": [
    "### create list of unique hadm_ids "
   ]
  },
  {
   "cell_type": "code",
   "execution_count": 4,
   "metadata": {},
   "outputs": [
    {
     "data": {
      "text/plain": [
       "21443"
      ]
     },
     "execution_count": 4,
     "metadata": {},
     "output_type": "execute_result"
    }
   ],
   "source": [
    "xf = pd.read_sql(\"\"\"\n",
    "SELECT hadm_id\n",
    "FROM mimiciii.transfused_notes \"\"\", engine)\n",
    "\n",
    "# get list of ids\n",
    "xf_ids = xf.hadm_id.unique()\n",
    "len(xf_ids)"
   ]
  },
  {
   "cell_type": "markdown",
   "metadata": {},
   "source": [
    "### function that lets us make multiple  requests to the postgres using pandas read_sql"
   ]
  },
  {
   "cell_type": "code",
   "execution_count": 5,
   "metadata": {},
   "outputs": [],
   "source": [
    "@event.listens_for(engine, 'before_cursor_execute')\n",
    "def receive_before_cursor_execute(conn, cursor, statement, params, context, executemany):\n",
    "    #print(\"FUNC call\")\n",
    "    if executemany:\n",
    "        cursor.fast_executemany = True"
   ]
  },
  {
   "cell_type": "markdown",
   "metadata": {},
   "source": [
    "###  function to pull notes, concatenate and save\n",
    "\n",
    "+ this will take a few hours(2.7) to run\n",
    "+ iterate through for each unique admission (hadm_id)\n",
    "+ pull all notes for an admission\n",
    "+ order notes by charttime , then storetime\n",
    "+ concatenate\n",
    "+ save as one big note to new table"
   ]
  },
  {
   "cell_type": "code",
   "execution_count": 6,
   "metadata": {
    "scrolled": true
   },
   "outputs": [
    {
     "data": {
      "application/vnd.jupyter.widget-view+json": {
       "model_id": "b2cf2219e5a346b88ef94767a8bb0720",
       "version_major": 2,
       "version_minor": 0
      },
      "text/plain": [
       "HBox(children=(IntProgress(value=0, max=21443), HTML(value='')))"
      ]
     },
     "metadata": {},
     "output_type": "display_data"
    },
    {
     "name": "stdout",
     "output_type": "stream",
     "text": [
      "\n",
      "7052.120042562485\n"
     ]
    }
   ],
   "source": [
    "s = time.time()\n",
    "\n",
    "for j in tqdm_notebook(xf_ids):\n",
    "    \n",
    "    if metadata == False:\n",
    "        \n",
    "        table_name = 'transfused_notes_sink'\n",
    "        \n",
    "        sql = \"\"\"\n",
    "\n",
    "        SELECT  hadm_id, chartdate, charttime, storetime, text\n",
    "        FROM mimiciii.transfused_notes \n",
    "            WHERE hadm_id in ({0})\n",
    "        GROUP BY hadm_id, chartdate, charttime, storetime, text\n",
    "        ORDER BY chartdate, charttime, storetime\"\"\"\n",
    "\n",
    "        # run sql query above to pull all notes for one admission (in order by date)\n",
    "        sql = sql.format(j)\n",
    "        xnotes=pd.read_sql(sql, engine)      \n",
    "       \n",
    "        xnotes = xnotes.loc[:,'text']\n",
    "    \n",
    "    else: \n",
    "        \n",
    "        table_name = 'transfused_notes_sink_metadata'\n",
    "        \n",
    "        sql = \"\"\"\n",
    "    \n",
    "        SELECT subject_id, hadm_id, chartdate, charttime, storetime, category, cgid, description, text\n",
    "        FROM mimiciii.transfused_notes \n",
    "            WHERE hadm_id in ({0})\n",
    "        GROUP BY subject_id, hadm_id, chartdate, charttime, storetime, category, cgid, description, text\n",
    "        ORDER BY chartdate, charttime, storetime\"\"\"\n",
    "\n",
    "        # run sql query above to pull all notes for one admission (in order by date)\n",
    "        # concatenate notes and all other cols (metadata)\n",
    "        # all the metadata gets put into one token for duplicate removal purposes\n",
    "        \n",
    "        sql = sql.format(j)\n",
    "        xnotes=pd.read_sql(sql, engine)\n",
    "\n",
    "        xnotes.loc[:,'text2'] = xnotes.loc[:,'text'] \n",
    "        xnotes.iloc[:,-2] = '. '\n",
    "        \n",
    "    # put a a period + whitespace to designate the end start and end of a note     \n",
    "    xnotes['separator'] = '. '\n",
    "    \n",
    "    xtext = xnotes.to_csv(None, header=False, index=False) \n",
    "\n",
    "    # save as a new dataframe\n",
    "    xtext2 = [(j, xtext)]\n",
    "    xfulltext=pd.DataFrame(xtext2, columns=['hadm_id', 'text'])\n",
    "    \n",
    "    # append hadm_id and the new single note to the new table in database\n",
    "    xfulltext.to_sql(table_name, con=engine, if_exists='append', chunksize=1, index=False, schema='mimiciii')\n",
    "    \n",
    "print(time.time() - s)\n",
    "\n",
    "conn.commit()"
   ]
  },
  {
   "cell_type": "markdown",
   "metadata": {},
   "source": [
    "#### Print counts for number of notes and number of admissions"
   ]
  },
  {
   "cell_type": "code",
   "execution_count": null,
   "metadata": {},
   "outputs": [],
   "source": [
    "if metadata==False:\n",
    "    cur.execute(\"\"\" SELECT COUNT(DISTINCT hadm_id) FROM transfused_notes_sink;\"\"\")\n",
    "else:\n",
    "    cur.execute(\"\"\" SELECT COUNT(DISTINCT hadm_id) FROM transfused_notes_sink_metadata;\"\"\")\n",
    "\n",
    "print( pd.DataFrame(cur.fetchall()).to_string(index=False))"
   ]
  },
  {
   "cell_type": "code",
   "execution_count": null,
   "metadata": {},
   "outputs": [],
   "source": [
    "if metadata==False:\n",
    "    cur.execute(\"\"\" SELECT COUNT(*) FROM transfused_notes_sink;\"\"\")\n",
    "else:\n",
    "    cur.execute(\"\"\" SELECT COUNT(*) FROM transfused_notes_sink_metadata;\"\"\")\n",
    "\n",
    "print( pd.DataFrame(cur.fetchall()).to_string(index=False))"
   ]
  },
  {
   "cell_type": "markdown",
   "metadata": {},
   "source": [
    "## 1.2.3 Non-Transfused  `ctrl_notes`\n",
    "\n",
    "### Get all notes for admissions (**hadm_id**) that have been identified as control group `ctrl_ids`\n",
    "+ Print the total number of notes, and unique admissions\n",
    "+ note that there are **27,888** admissions w/ notes (240 control group admissions did not have data in the `noteevents` table. "
   ]
  },
  {
   "cell_type": "code",
   "execution_count": 7,
   "metadata": {},
   "outputs": [],
   "source": [
    "cur.execute(\"\"\" DROP TABLE IF EXISTS mimiciii.ctrl_notes;\n",
    "SELECT n.*\n",
    "    INTO ctrl_notes\n",
    "FROM noteevents n\n",
    "    WHERE n.hadm_ID IN (\n",
    "        SELECT DISTINCT c.hadm_id\n",
    "        FROM ctrl_ids c)\n",
    "        \n",
    "    AND n.iserror IS NULL\n",
    "    \n",
    "    ;\"\"\")\n",
    "\n",
    "conn.commit()"
   ]
  },
  {
   "cell_type": "markdown",
   "metadata": {},
   "source": [
    "Print count of total notes and admissions"
   ]
  },
  {
   "cell_type": "code",
   "execution_count": 8,
   "metadata": {},
   "outputs": [
    {
     "name": "stdout",
     "output_type": "stream",
     "text": [
      " total notes count  ctrl admissions with notes\n",
      "            535639                       27888\n"
     ]
    }
   ],
   "source": [
    "cur.execute(\"\"\" SELECT COUNT(*), COUNT(DISTINCT hadm_id) FROM ctrl_notes;\"\"\")\n",
    "print( pd.DataFrame(cur.fetchall(), columns=[ 'total notes count', 'ctrl admissions with notes']).to_string(index=False))"
   ]
  },
  {
   "cell_type": "markdown",
   "metadata": {},
   "source": [
    "### Control  Notes by Admission `ctrl_notes_sink` or `ctrl_notes_sink_metadata`\n",
    "+ group by admission ID\n",
    "+ order by note date ('note_dt')\n",
    "+ concatenate all notes for that admission ID into one string\n",
    "+ save as ctrl_notes_sink\n",
    "\n",
    "#### New table contains the following columns\n",
    "+ hadm_id\n",
    "+ text (concatenated notes + metadata (if metadata==True)"
   ]
  },
  {
   "cell_type": "code",
   "execution_count": 9,
   "metadata": {},
   "outputs": [],
   "source": [
    "if metadata==False:\n",
    "    cur.execute(\"\"\"DROP TABLE IF EXISTS ctrl_notes_sink;\n",
    "\n",
    "    CREATE TABLE mimiciii.ctrl_notes_sink\n",
    "    (hadm_id int,\n",
    "     text varchar);\"\"\")\n",
    "    \n",
    "else:\n",
    "    cur.execute(\"\"\"DROP TABLE IF EXISTS ctrl_notes_sink_metadata;\n",
    "\n",
    "    CREATE TABLE mimiciii.ctrl_notes_sink_metadata\n",
    "    (hadm_id int,\n",
    "     text varchar);\"\"\")\n",
    "\n",
    "conn.commit();"
   ]
  },
  {
   "cell_type": "markdown",
   "metadata": {},
   "source": [
    "### Load the unique hadm_ids (identifies each admission) and make a list"
   ]
  },
  {
   "cell_type": "code",
   "execution_count": 10,
   "metadata": {},
   "outputs": [],
   "source": [
    "ctrl_ids = pd.read_sql(\"\"\"\n",
    "SELECT hadm_id\n",
    "FROM mimiciii.ctrl_notes\"\"\", engine)\n",
    "\n",
    "cids= ctrl_ids.hadm_id.unique()"
   ]
  },
  {
   "cell_type": "markdown",
   "metadata": {},
   "source": [
    "### Function to load, concatenate and save \n",
    "+ this takes a few hours (2.3 hrs) to run\n",
    "+ iterates through each hadm_id\n",
    "+ pulls all notes (and other data if chosen)\n",
    "+ orders notes in order of charttime, then storetime\n",
    "+ concatenate and save in new table"
   ]
  },
  {
   "cell_type": "code",
   "execution_count": 11,
   "metadata": {
    "scrolled": true
   },
   "outputs": [
    {
     "data": {
      "application/vnd.jupyter.widget-view+json": {
       "model_id": "69a797be74da4765bf9d358b29414cb7",
       "version_major": 2,
       "version_minor": 0
      },
      "text/plain": [
       "HBox(children=(IntProgress(value=0, max=27888), HTML(value='')))"
      ]
     },
     "metadata": {},
     "output_type": "display_data"
    },
    {
     "name": "stdout",
     "output_type": "stream",
     "text": [
      "\n",
      "total time= 87.5706007361412 min\n"
     ]
    }
   ],
   "source": [
    "s = time.time()\n",
    "\n",
    "for i in tqdm_notebook(cids):\n",
    "    \n",
    "    if metadata==False:\n",
    "        \n",
    "        table_name = 'ctrl_notes_sink'\n",
    "        \n",
    "        sql = \"\"\"\n",
    "\n",
    "        SELECT  hadm_id, chartdate, charttime, storetime,text\n",
    "        FROM mimiciii.ctrl_notes \n",
    "            WHERE hadm_id IN ({0})\n",
    "        GROUP BY  hadm_id, chartdate, charttime, storetime, text\n",
    "        ORDER BY chartdate, charttime, storetime\"\"\"\n",
    "\n",
    "        sql = sql.format(i)\n",
    "        cnotes = pd.read_sql(sql, engine)\n",
    "        cnotes = cnotes.loc[:,'text']\n",
    "        \n",
    "    else:\n",
    "        \n",
    "        table_name = 'ctrl_notes_sink_metadata'\n",
    "        \n",
    "        sql = \"\"\"\n",
    "    \n",
    "        SELECT subject_id, hadm_id, chartdate, charttime, storetime, category, cgid, description, text\n",
    "        FROM mimiciii.ctrl_notes \n",
    "            WHERE hadm_id IN ({0})\n",
    "        GROUP BY subject_id, hadm_id, chartdate, charttime, storetime, category, cgid, description, text\n",
    "        ORDER BY chartdate, charttime, storetime\"\"\"\n",
    "\n",
    "        sql = sql.format(i)\n",
    "        cnotes = pd.read_sql(sql, engine)\n",
    "\n",
    "        cnotes.loc[:,'text2'] = cnotes.loc[:,'text'] \n",
    "        cnotes.iloc[:,-2] = '. '\n",
    "    \n",
    "    \n",
    "    cnotes['separator'] = '. '\n",
    " \n",
    "    #CONCAT NOTES\n",
    "    ctext = cnotes.to_csv(None, header=False, index=False)\n",
    "  \n",
    "    #put into a data frame with hadm_id\n",
    "    ctext2 = [(i, ctext)]\n",
    "    cfulltext = pd.DataFrame(ctext2, columns=['hadm_id', 'text'])\n",
    "    \n",
    "    \n",
    "    # append admission and single note to the new table in database\n",
    "    cfulltext.to_sql(table_name, con=engine, if_exists='append', chunksize=1, index=False, schema='mimiciii')\n",
    "    \n",
    "print('total time=',((time.time() - s)/60),'min')\n",
    "\n",
    "conn.commit()"
   ]
  },
  {
   "cell_type": "markdown",
   "metadata": {},
   "source": [
    "#### Print counts of the new table"
   ]
  },
  {
   "cell_type": "code",
   "execution_count": 17,
   "metadata": {},
   "outputs": [
    {
     "name": "stdout",
     "output_type": "stream",
     "text": [
      " total notes count  ctrl admissions with notes\n",
      "             27888                       27888\n"
     ]
    }
   ],
   "source": [
    "if metadata==False:\n",
    "    cur.execute(\"\"\" SELECT COUNT(*), COUNT(DISTINCT hadm_id) FROM ctrl_notes_sink;\"\"\")\n",
    "else:\n",
    "    cur.execute(\"\"\" SELECT COUNT(*), COUNT(DISTINCT hadm_id) FROM ctrl_notes_sink_metadata;\"\"\")\n",
    "\n",
    "print( pd.DataFrame(cur.fetchall(), columns=[ 'total notes count', 'ctrl admissions with notes']).to_string(index=False))\n"
   ]
  },
  {
   "cell_type": "markdown",
   "metadata": {},
   "source": [
    "## 1.2.4 Clean Up, Commit, and Close"
   ]
  },
  {
   "cell_type": "code",
   "execution_count": 12,
   "metadata": {},
   "outputs": [],
   "source": [
    "conn.commit()\n",
    "cur.close()\n",
    "conn.close()"
   ]
  }
 ],
 "metadata": {
  "kernelspec": {
   "display_name": "Python 2",
   "language": "python",
   "name": "python2"
  },
  "language_info": {
   "codemirror_mode": {
    "name": "ipython",
    "version": 2
   },
   "file_extension": ".py",
   "mimetype": "text/x-python",
   "name": "python",
   "nbconvert_exporter": "python",
   "pygments_lexer": "ipython2",
   "version": "2.7.16"
  }
 },
 "nbformat": 4,
 "nbformat_minor": 2
}
